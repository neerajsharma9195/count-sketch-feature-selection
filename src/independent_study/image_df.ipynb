{
 "cells": [
  {
   "cell_type": "code",
   "execution_count": 52,
   "metadata": {
    "pycharm": {
     "is_executing": false
    }
   },
   "outputs": [
    {
     "name": "stderr",
     "output_type": "stream",
     "text": [
      "/Users/neerajsharma/my_work/umass/umass_study/1st_sem/CS689/project_repo/venv/lib/python3.7/site-packages/ipykernel_launcher.py:60: FutureWarning: Passing a negative integer is deprecated in version 1.0 and will not be supported in future version. Instead, use None to not limit the column width.\n"
     ]
    }
   ],
   "source": [
    "\n",
    "import pandas as pd\n",
    "from IPython.core.display import HTML\n",
    "import base64\n",
    "from PIL import Image\n",
    "from io import BytesIO\n",
    "import os\n",
    "\n",
    "mission_folder = \"plots/mission/\"\n",
    "complementary_cms_folder = \"plots/complementary_cms/\"\n",
    "complementary_conservative_cms_folder = \"plots/complementary_conservative_cms/\"\n",
    "logistic_folder = \"dumps/plots_logistic/\"\n",
    "logistic_with_heap_folder = \"dumps/topk_plots_logistic_regression/\"\n",
    "D = 47236\n",
    "\n",
    "\n",
    "def get_thumbnail(path):\n",
    "    i = Image.open(path)\n",
    "    i.thumbnail((300, 300), Image.LANCZOS)\n",
    "    return i\n",
    "\n",
    "\n",
    "def image_base64(im):\n",
    "    if isinstance(im, str):\n",
    "        im = get_thumbnail(im)\n",
    "    with BytesIO() as buffer:\n",
    "        im.save(buffer, 'jpeg')\n",
    "        return base64.b64encode(buffer.getvalue()).decode()\n",
    "\n",
    "\n",
    "def image_formatter(im):\n",
    "    return f'<img src=\"data:image/jpeg;base64,{image_base64(im)}\">'\n",
    "\n",
    "data = []\n",
    "\n",
    "for i in range(1000):\n",
    "    logisitic_file_path = os.path.join(logistic_folder, \"gradient_update_{}.jpg\".format(i+1))\n",
    "    logisitic_heap_file_path = os.path.join(logistic_with_heap_folder, \"gradient_update_{}.jpg\".format(i+1))\n",
    "    if os.path.exists(logisitic_file_path) and os.path.exists(logisitic_heap_file_path):\n",
    "        data.append({\"index\": i,\n",
    "                   \"complementary_cms\": get_thumbnail(\n",
    "                       os.path.join(complementary_cms_folder, \"gradient_update_{}.jpg\".format(i))),\n",
    "                   \"complementary_conserv_cms\": get_thumbnail(\n",
    "                       os.path.join(complementary_conservative_cms_folder, \"gradient_update_{}.jpg\".format(i))),\n",
    "                   \"mission\": get_thumbnail(\n",
    "                       os.path.join(mission_folder, \"gradient_update_{}.jpg\".format(i))),\n",
    "                   \"logistic_image\": get_thumbnail(\n",
    "                       os.path.join(logistic_folder, \"gradient_update_{}.jpg\".format(i+1))),\n",
    "                   \"logisitic_heap_image\": get_thumbnail(\n",
    "                       os.path.join(logistic_with_heap_folder, \"gradient_update_{}.jpg\".format(i+1))),\n",
    "                   })\n",
    "\n",
    "df = pd.DataFrame(data)\n",
    "pd.set_option('display.max_colwidth', -1)\n",
    "html_data = HTML(df[['index', 'complementary_cms',\n",
    "         'complementary_conserv_cms', 'mission', 'logistic_image', 'logisitic_heap_image'\n",
    "        ]].to_html(formatters={'complementary_cms': image_formatter, 'complementary_conserv_cms': image_formatter,\n",
    "                              \n",
    "                              'mission': image_formatter, 'logistic_image': image_formatter,\n",
    "                              'logisitic_heap_image': image_formatter}, escape=False))\n",
    "\n",
    "df.to_html('graphs_1_1000.html', formatters={'complementary_cms': image_formatter, 'complementary_conserv_cms': image_formatter,\n",
    "                              \n",
    "                              'mission': image_formatter, 'logistic_image': image_formatter,\n",
    "                              'logisitic_heap_image': image_formatter}, escape=False)\n",
    "\n",
    "#pdfkit.from_file('graphs_1_1000.html', 'graphs_1_1000.pdf')\n",
    "\n"
   ]
  },
  {
   "cell_type": "code",
   "execution_count": 5,
   "metadata": {},
   "outputs": [
    {
     "data": {
      "text/plain": [
       "Series([], dtype: bool)"
      ]
     },
     "execution_count": 5,
     "metadata": {},
     "output_type": "execute_result"
    }
   ],
   "source": [
    "df.isnull().all(1)"
   ]
  },
  {
   "cell_type": "code",
   "execution_count": 9,
   "metadata": {},
   "outputs": [
    {
     "data": {
      "text/plain": [
       "'plots/mission/'"
      ]
     },
     "execution_count": 9,
     "metadata": {},
     "output_type": "execute_result"
    }
   ],
   "source": [
    "mission_folder"
   ]
  },
  {
   "cell_type": "code",
   "execution_count": 10,
   "metadata": {},
   "outputs": [],
   "source": [
    "file_path = os.path.join(mission_folder, \"gradient_update_{}.jpg\".format(i))"
   ]
  },
  {
   "cell_type": "code",
   "execution_count": 11,
   "metadata": {},
   "outputs": [
    {
     "data": {
      "text/plain": [
       "'plots/mission/gradient_update_9.jpg'"
      ]
     },
     "execution_count": 11,
     "metadata": {},
     "output_type": "execute_result"
    }
   ],
   "source": [
    "file_path"
   ]
  },
  {
   "cell_type": "code",
   "execution_count": 12,
   "metadata": {},
   "outputs": [],
   "source": []
  },
  {
   "cell_type": "code",
   "execution_count": 16,
   "metadata": {},
   "outputs": [],
   "source": [
    "i = Image.open(file_path)\n",
    "i.close()"
   ]
  },
  {
   "cell_type": "code",
   "execution_count": 17,
   "metadata": {},
   "outputs": [
    {
     "ename": "AttributeError",
     "evalue": "'JpegImageFile' object has no attribute 'read'",
     "output_type": "error",
     "traceback": [
      "\u001b[0;31m---------------------------------------------------------------------------\u001b[0m",
      "\u001b[0;31mAttributeError\u001b[0m                            Traceback (most recent call last)",
      "\u001b[0;32m<ipython-input-17-ea72c4a35c1a>\u001b[0m in \u001b[0;36m<module>\u001b[0;34m\u001b[0m\n\u001b[0;32m----> 1\u001b[0;31m \u001b[0mget_thumbnail\u001b[0m\u001b[0;34m(\u001b[0m\u001b[0mi\u001b[0m\u001b[0;34m)\u001b[0m\u001b[0;34m\u001b[0m\u001b[0;34m\u001b[0m\u001b[0m\n\u001b[0m",
      "\u001b[0;32m<ipython-input-8-afacfabaec76>\u001b[0m in \u001b[0;36mget_thumbnail\u001b[0;34m(path)\u001b[0m\n\u001b[1;32m     20\u001b[0m \u001b[0;34m\u001b[0m\u001b[0m\n\u001b[1;32m     21\u001b[0m \u001b[0;32mdef\u001b[0m \u001b[0mget_thumbnail\u001b[0m\u001b[0;34m(\u001b[0m\u001b[0mpath\u001b[0m\u001b[0;34m)\u001b[0m\u001b[0;34m:\u001b[0m\u001b[0;34m\u001b[0m\u001b[0;34m\u001b[0m\u001b[0m\n\u001b[0;32m---> 22\u001b[0;31m     \u001b[0mi\u001b[0m \u001b[0;34m=\u001b[0m \u001b[0mImage\u001b[0m\u001b[0;34m.\u001b[0m\u001b[0mopen\u001b[0m\u001b[0;34m(\u001b[0m\u001b[0mpath\u001b[0m\u001b[0;34m)\u001b[0m\u001b[0;34m\u001b[0m\u001b[0;34m\u001b[0m\u001b[0m\n\u001b[0m\u001b[1;32m     23\u001b[0m     \u001b[0mi\u001b[0m\u001b[0;34m.\u001b[0m\u001b[0mthumbnail\u001b[0m\u001b[0;34m(\u001b[0m\u001b[0;34m(\u001b[0m\u001b[0;36m150\u001b[0m\u001b[0;34m,\u001b[0m \u001b[0;36m150\u001b[0m\u001b[0;34m)\u001b[0m\u001b[0;34m,\u001b[0m \u001b[0mImage\u001b[0m\u001b[0;34m.\u001b[0m\u001b[0mLANCZOS\u001b[0m\u001b[0;34m)\u001b[0m\u001b[0;34m\u001b[0m\u001b[0;34m\u001b[0m\u001b[0m\n\u001b[1;32m     24\u001b[0m     \u001b[0;32mreturn\u001b[0m \u001b[0mi\u001b[0m\u001b[0;34m\u001b[0m\u001b[0;34m\u001b[0m\u001b[0m\n",
      "\u001b[0;32m~/my_work/umass/umass_study/1st_sem/CS689/project_repo/venv/lib/python3.7/site-packages/PIL/Image.py\u001b[0m in \u001b[0;36mopen\u001b[0;34m(fp, mode)\u001b[0m\n\u001b[1;32m   2773\u001b[0m         \u001b[0mexclusive_fp\u001b[0m \u001b[0;34m=\u001b[0m \u001b[0;32mTrue\u001b[0m\u001b[0;34m\u001b[0m\u001b[0;34m\u001b[0m\u001b[0m\n\u001b[1;32m   2774\u001b[0m \u001b[0;34m\u001b[0m\u001b[0m\n\u001b[0;32m-> 2775\u001b[0;31m     \u001b[0mprefix\u001b[0m \u001b[0;34m=\u001b[0m \u001b[0mfp\u001b[0m\u001b[0;34m.\u001b[0m\u001b[0mread\u001b[0m\u001b[0;34m(\u001b[0m\u001b[0;36m16\u001b[0m\u001b[0;34m)\u001b[0m\u001b[0;34m\u001b[0m\u001b[0;34m\u001b[0m\u001b[0m\n\u001b[0m\u001b[1;32m   2776\u001b[0m \u001b[0;34m\u001b[0m\u001b[0m\n\u001b[1;32m   2777\u001b[0m     \u001b[0mpreinit\u001b[0m\u001b[0;34m(\u001b[0m\u001b[0;34m)\u001b[0m\u001b[0;34m\u001b[0m\u001b[0;34m\u001b[0m\u001b[0m\n",
      "\u001b[0;31mAttributeError\u001b[0m: 'JpegImageFile' object has no attribute 'read'"
     ]
    }
   ],
   "source": [
    "get_thumbnail(i)"
   ]
  },
  {
   "cell_type": "code",
   "execution_count": 18,
   "metadata": {},
   "outputs": [],
   "source": [
    "i = Image.open(file_path)\n",
    "i.thumbnail((150, 150), Image.LANCZOS)"
   ]
  },
  {
   "cell_type": "code",
   "execution_count": 19,
   "metadata": {},
   "outputs": [
    {
     "data": {
      "image/png": "[encoded data removed]",
      "text/plain": [
       "<PIL.JpegImagePlugin.JpegImageFile image mode=RGB size=150x112 at 0x118C03310>"
      ]
     },
     "execution_count": 19,
     "metadata": {},
     "output_type": "execute_result"
    }
   ],
   "source": [
    "i"
   ]
  },
  {
   "cell_type": "code",
   "execution_count": 25,
   "metadata": {},
   "outputs": [],
   "source": [
    "token = '<img src=\"'+ file_path + '\" style=max-height:124px;\"/>'"
   ]
  },
  {
   "cell_type": "code",
   "execution_count": 26,
   "metadata": {},
   "outputs": [
    {
     "data": {
      "text/plain": [
       "'<img src=\"plots/mission/gradient_update_9.jpg\" style=max-height:124px;\"/>'"
      ]
     },
     "execution_count": 26,
     "metadata": {},
     "output_type": "execute_result"
    }
   ],
   "source": [
    "token"
   ]
  },
  {
   "cell_type": "code",
   "execution_count": null,
   "metadata": {},
   "outputs": [],
   "source": [
    "TML(df.to_html(escape=False ,formatters=dict(column_name_with_image_links=path_to_image_html)))"
   ]
  },
  {
   "cell_type": "code",
   "execution_count": 27,
   "metadata": {},
   "outputs": [],
   "source": [
    "im = Image.open(file_path)\n",
    "a = f'<img src=\"data:image/jpeg;base64,{image_base64(im)}\">'"
   ]
  },
  {
   "cell_type": "code",
   "execution_count": 28,
   "metadata": {},
   "outputs": [
    {
     "data": {
      "text/plain": [
       "'<img src=\"data:image/jpeg;base64,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\">'"
      ]
     },
     "execution_count": 28,
     "metadata": {},
     "output_type": "execute_result"
    }
   ],
   "source": [
    "a"
   ]
  },
  {
   "cell_type": "code",
   "execution_count": 29,
   "metadata": {},
   "outputs": [
    {
     "data": {
      "text/html": [
       "<img src=\"data:image/jpeg;base64,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\">"
      ],
      "text/plain": [
       "<IPython.core.display.HTML object>"
      ]
     },
     "execution_count": 29,
     "metadata": {},
     "output_type": "execute_result"
    }
   ],
   "source": [
    "HTML(a)"
   ]
  },
  {
   "cell_type": "code",
   "execution_count": 30,
   "metadata": {},
   "outputs": [],
   "source": [
    "df = pd.DataFrame(columns=['feature_index', 'image'])"
   ]
  },
  {
   "cell_type": "code",
   "execution_count": 31,
   "metadata": {},
   "outputs": [
    {
     "data": {
      "text/html": [
       "<div>\n",
       "<style scoped>\n",
       "    .dataframe tbody tr th:only-of-type {\n",
       "        vertical-align: middle;\n",
       "    }\n",
       "\n",
       "    .dataframe tbody tr th {\n",
       "        vertical-align: top;\n",
       "    }\n",
       "\n",
       "    .dataframe thead th {\n",
       "        text-align: right;\n",
       "    }\n",
       "</style>\n",
       "<table border=\"1\" class=\"dataframe\">\n",
       "  <thead>\n",
       "    <tr style=\"text-align: right;\">\n",
       "      <th></th>\n",
       "      <th>feature_index</th>\n",
       "      <th>image</th>\n",
       "    </tr>\n",
       "  </thead>\n",
       "  <tbody>\n",
       "  </tbody>\n",
       "</table>\n",
       "</div>"
      ],
      "text/plain": [
       "Empty DataFrame\n",
       "Columns: [feature_index, image]\n",
       "Index: []"
      ]
     },
     "execution_count": 31,
     "metadata": {},
     "output_type": "execute_result"
    }
   ],
   "source": [
    "df"
   ]
  },
  {
   "cell_type": "code",
   "execution_count": 40,
   "metadata": {},
   "outputs": [],
   "source": [
    "data = []\n",
    "for i in range(5):\n",
    "    a = {\"feature_index\": i, \"image\": get_thumbnail(file_path)}\n",
    "    data.append(a)\n",
    "df = pd.DataFrame(data)"
   ]
  },
  {
   "cell_type": "code",
   "execution_count": 38,
   "metadata": {},
   "outputs": [
    {
     "data": {
      "text/html": [
       "<div>\n",
       "<style scoped>\n",
       "    .dataframe tbody tr th:only-of-type {\n",
       "        vertical-align: middle;\n",
       "    }\n",
       "\n",
       "    .dataframe tbody tr th {\n",
       "        vertical-align: top;\n",
       "    }\n",
       "\n",
       "    .dataframe thead th {\n",
       "        text-align: right;\n",
       "    }\n",
       "</style>\n",
       "<table border=\"1\" class=\"dataframe\">\n",
       "  <thead>\n",
       "    <tr style=\"text-align: right;\">\n",
       "      <th></th>\n",
       "      <th>feature_index</th>\n",
       "      <th>image</th>\n",
       "    </tr>\n",
       "  </thead>\n",
       "  <tbody>\n",
       "    <tr>\n",
       "      <th>0</th>\n",
       "      <td>0</td>\n",
       "      <td>&lt;PIL.JpegImagePlugin.JpegImageFile image mode=RGB size=640x480 at 0x118DF9890&gt;</td>\n",
       "    </tr>\n",
       "    <tr>\n",
       "      <th>1</th>\n",
       "      <td>1</td>\n",
       "      <td>&lt;PIL.JpegImagePlugin.JpegImageFile image mode=RGB size=640x480 at 0x118DF9A10&gt;</td>\n",
       "    </tr>\n",
       "    <tr>\n",
       "      <th>2</th>\n",
       "      <td>2</td>\n",
       "      <td>&lt;PIL.JpegImagePlugin.JpegImageFile image mode=RGB size=640x480 at 0x118CEEBD0&gt;</td>\n",
       "    </tr>\n",
       "    <tr>\n",
       "      <th>3</th>\n",
       "      <td>3</td>\n",
       "      <td>&lt;PIL.JpegImagePlugin.JpegImageFile image mode=RGB size=640x480 at 0x118CEEF50&gt;</td>\n",
       "    </tr>\n",
       "    <tr>\n",
       "      <th>4</th>\n",
       "      <td>4</td>\n",
       "      <td>&lt;PIL.JpegImagePlugin.JpegImageFile image mode=RGB size=640x480 at 0x118CD8110&gt;</td>\n",
       "    </tr>\n",
       "  </tbody>\n",
       "</table>\n",
       "</div>"
      ],
      "text/plain": [
       "   feature_index  \\\n",
       "0  0               \n",
       "1  1               \n",
       "2  2               \n",
       "3  3               \n",
       "4  4               \n",
       "\n",
       "                                                                            image  \n",
       "0  <PIL.JpegImagePlugin.JpegImageFile image mode=RGB size=640x480 at 0x118DF9890>  \n",
       "1  <PIL.JpegImagePlugin.JpegImageFile image mode=RGB size=640x480 at 0x118DF9A10>  \n",
       "2  <PIL.JpegImagePlugin.JpegImageFile image mode=RGB size=640x480 at 0x118CEEBD0>  \n",
       "3  <PIL.JpegImagePlugin.JpegImageFile image mode=RGB size=640x480 at 0x118CEEF50>  \n",
       "4  <PIL.JpegImagePlugin.JpegImageFile image mode=RGB size=640x480 at 0x118CD8110>  "
      ]
     },
     "execution_count": 38,
     "metadata": {},
     "output_type": "execute_result"
    }
   ],
   "source": [
    "df"
   ]
  },
  {
   "cell_type": "code",
   "execution_count": 41,
   "metadata": {},
   "outputs": [
    {
     "data": {
      "text/html": [
       "<table border=\"1\" class=\"dataframe\">\n",
       "  <thead>\n",
       "    <tr style=\"text-align: right;\">\n",
       "      <th></th>\n",
       "      <th>feature_index</th>\n",
       "      <th>image</th>\n",
       "    </tr>\n",
       "  </thead>\n",
       "  <tbody>\n",
       "    <tr>\n",
       "      <th>0</th>\n",
       "      <td>0</td>\n",
       "      <td><img src=\"data:image/jpeg;base64,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\"></td>\n",
       "    </tr>\n",
       "    <tr>\n",
       "      <th>1</th>\n",
       "      <td>1</td>\n",
       "      <td><img src=\"data:image/jpeg;base64,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\"></td>\n",
       "    </tr>\n",
       "    <tr>\n",
       "      <th>2</th>\n",
       "      <td>2</td>\n",
       "      <td><img src=\"data:image/jpeg;base64,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\"></td>\n",
       "    </tr>\n",
       "    <tr>\n",
       "      <th>3</th>\n",
       "      <td>3</td>\n",
       "      <td><img src=\"data:image/jpeg;base64,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\"></td>\n",
       "    </tr>\n",
       "    <tr>\n",
       "      <th>4</th>\n",
       "      <td>4</td>\n",
       "      <td><img src=\"data:image/jpeg;base64,/9j/4AAQSkZJRgABAQAAAQABAAD/2wBDAAgGBgcGBQgHBwcJCQgKDBQNDAsLDBkSEw8UHRofHh0aHBwgJC4nICIsIxwcKDcpLDAxNDQ0Hyc5PTgyPC4zNDL/2wBDAQkJCQwLDBgNDRgyIRwhMjIyMjIyMjIyMjIyMjIyMjIyMjIyMjIyMjIyMjIyMjIyMjIyMjIyMjIyMjIyMjIyMjL/wAARCABwAJYDASIAAhEBAxEB/8QAHwAAAQUBAQEBAQEAAAAAAAAAAAECAwQFBgcICQoL/8QAtRAAAgEDAwIEAwUFBAQAAAF9AQIDAAQRBRIhMUEGE1FhByJxFDKBkaEII0KxwRVS0fAkM2JyggkKFhcYGRolJicoKSo0NTY3ODk6Q0RFRkdISUpTVFVWV1hZWmNkZWZnaGlqc3R1dnd4eXqDhIWGh4iJipKTlJWWl5iZmqKjpKWmp6ipqrKztLW2t7i5usLDxMXGx8jJytLT1NXW19jZ2uHi4+Tl5ufo6erx8vP09fb3+Pn6/8QAHwEAAwEBAQEBAQEBAQAAAAAAAAECAwQFBgcICQoL/8QAtREAAgECBAQDBAcFBAQAAQJ3AAECAxEEBSExBhJBUQdhcRMiMoEIFEKRobHBCSMzUvAVYnLRChYkNOEl8RcYGRomJygpKjU2Nzg5OkNERUZHSElKU1RVVldYWVpjZGVmZ2hpanN0dXZ3eHl6goOEhYaHiImKkpOUlZaXmJmaoqOkpaanqKmqsrO0tba3uLm6wsPExcbHyMnK0tPU1dbX2Nna4uPk5ebn6Onq8vP09fb3+Pn6/9oADAMBAAIRAxEAPwD3+iiigAoqs93i4eFIJZGQAsV245zjqR6Uv2qT/nzuP/HP/iqALFFV/tUn/Pncf+Of/FUfapP+fO4/8c/+KoAsUVX+1Sf8+dx/45/8VR9qk/587j/xz/4qgCxRVf7VJ/z53H/jn/xVH2qT/nzuP/HP/iqALFFV/tUn/Pncf+Of/FUhu3HW0nH4p/8AFUAWaKq/bW/59ZvzT/4qj7Y3/PrP+af/ABVAFqiqv2xv+fSf80/+Ko+2N/z6zfmn/wAVQBaoqm9+I0Z3tplRQWY/KcAdT96rlABRRRQBXe/tEZw1xGCgy3zfd+tRHVtPHW8g/wC+xUkun2c7M0ttE7Mu1iVHI9DUQ0fTQcixtweefLHegB0DBtUu8EHCxg4PT71XKpwALqd2AABsj6f8Cq5QAUUUUAFFFFABRRRQAVDcQ+cAMuB6o201NRQBT+xfuJohLcDzUKFvN5XPcHsaqyaIrKojubyJljWPck3JCjAye55zWtRQCVjGGhYTaL6+wPu/vjxyT+PX9BU39kr9o87z7ncV2nMn+zt49PXjvWnRQBkTWRtNMvf308oaJj+9fdt+U8Ctequp/wDILu/+uL/yNWqACiiigDOni1V5JTFcW6KVxGNhODnqfXtVVrXxD/DqNoP+2H/1/rV2bV7KB5UebmJdzYUnAzj+hquviTS2baJ2LYZgPLbJAGT29KALNtv/ALTu9+3O2PG36NV2qVuwbVLzBzhYwfY/NV2gAooooAKKKKACiiigAooooAKKKKACiiigCrqf/ILu/wDri/8AI1aqrqf/ACC7v/ri/wDI1aoAKKKKAGNFG5yyKxxjJGeKQQRDpGn/AHyKpXNlfSySNHqDRqybVAT7hz19/wD61VH0nVSDjW5Bwf8AlmP8/wD6/YUAaEP/ACFLv/cj/wDZquVStgV1O7DMWOyPkj2artABRRRQAUUUUAFFFFABRRRQAUUUUAFFFFAFXU/+QXd/9cX/AJGrVVdT/wCQXd/9cX/katUAFFFFAGdcaxBbSSxtDcMY038JjdzjAzjP8qqHxPbD/lzvehP+rHb8a3KKAKVs4fUrsgMPkj+8Mdmq7VOH/kKXf+5H/wCzVcoAKKKKACiiigAooooAKKKKACiiigAooooAq6n/AMgu7/64v/I1aqrqf/ILu/8Ari/8jVqgAooooAzrjSVnklf7XdJ5i7SBJnHOcjPT/wDVUA8PxhGU314xJBBMgyOvt05qefULqOSVY9NnkCLlTkDec9Bz/nNQrqmoMjsdIlTaCcFxluCePxAH40AWrZNmp3Yyx+SP7xz/AHqu1St23apefKRhYxz3+9yKu0AFFFFABRRRQAUUUUAFFFFABRRRQAUUUUAVdT/5Bd3/ANcX/katVV1P/kF3f/XF/wCRq1QAUUUUAFFFFAFQ2863cs0UkeJFUYZScYz7+9K7XUaF3lt1UdSVP+NWqCARg0AYv9tIHUNeWoDnCfI3JyB6+pH51o4vP+ekH/fB/wAakFtADkQx5H+wPXP86loAzrq8ltAPNuLZWYhVBVuSeB36ZpLW/e8dkguIHZB82Eb1I9fUGtB40kGHRWHXDDNNjgiiZmjiRC3UqoGf85NAEWLz/npB/wB8H/GqFzrC2sjLLd2y+WcSZRsjgn19sVdvxfGFfsBhEocE+dnBXB9PfH61myWusyOWaDS2yMtlT8xwRzkdMY/WgDTU3bqGWSAqRkHYf8abPLcW0DzyywLHGpZjsPA/Oiy/tAMwvRbBcfL5Of1zVtlV1KsoZSMEEZBoAy7fUmublreO5tmkBPCo3TAPr1wwq7i8/vwf98H/ABp6W8Mb70hjVsY3BQDUtAGZdX0lowSS4t1kKllBRuQPxp9pePfxGW1ubeVA20sqN1wD6+hFXZIYpceZGj4BA3KD160qIkYIRVUHk4GKAKs8F1cW8kLSwhZFKkhDkA/jVyiigAooooA//9k=\"></td>\n",
       "    </tr>\n",
       "  </tbody>\n",
       "</table>"
      ],
      "text/plain": [
       "<IPython.core.display.HTML object>"
      ]
     },
     "execution_count": 41,
     "metadata": {},
     "output_type": "execute_result"
    }
   ],
   "source": [
    "HTML(df[['feature_index', 'image']].to_html(formatters={'image': image_formatter}, escape=False))\n",
    "\n"
   ]
  },
  {
   "cell_type": "code",
   "execution_count": null,
   "metadata": {},
   "outputs": [],
   "source": []
  }
 ],
 "metadata": {
  "kernelspec": {
   "display_name": "Python 3",
   "language": "python",
   "name": "python3"
  },
  "language_info": {
   "codemirror_mode": {
    "name": "ipython",
    "version": 3
   },
   "file_extension": ".py",
   "mimetype": "text/x-python",
   "name": "python",
   "nbconvert_exporter": "python",
   "pygments_lexer": "ipython3",
   "version": "3.7.5"
  },
  "pycharm": {
   "stem_cell": {
    "cell_type": "raw",
    "source": [],
    "metadata": {
     "collapsed": false
    }
   }
  }
 },
 "nbformat": 4,
 "nbformat_minor": 1
}